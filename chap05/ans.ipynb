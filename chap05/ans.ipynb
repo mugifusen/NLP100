{
 "cells": [
  {
   "cell_type": "code",
   "execution_count": 1,
   "metadata": {},
   "outputs": [
    {
     "name": "stdout",
     "output_type": "stream",
     "text": [
      "{'surface': '人工', 'base': '人工', 'pos': '名詞', 'pos1': '一般'}\n",
      "{'surface': '知能', 'base': '知能', 'pos': '名詞', 'pos1': '一般'}\n"
     ]
    }
   ],
   "source": [
    "class Morph:\n",
    "  def __init__(self, line):\n",
    "    surface, other = line.split(\"\\t\")\n",
    "    other = other.split(\",\")\n",
    "    self.surface = surface\n",
    "    self.base = other[-3]\n",
    "    self.pos = other[0]\n",
    "    self.pos1 = other[1]\n",
    "\n",
    "sentences = [] #文リスト\n",
    "morphs = [] #形態素リスト\n",
    "\n",
    "with open(\"./ai.ja.txt.parsed\") as f:\n",
    "  for line in f:\n",
    "    if line[0] == \"*\":\n",
    "      continue\n",
    "    elif line != \"EOS\\n\": \n",
    "      morphs.append(Morph(line))\n",
    "    else:  #EOS（文末）の場合\n",
    "      sentences.append(morphs)\n",
    "      morphs = []\n",
    "\n",
    "for i in sentences[0]:\n",
    "    print(vars(i))"
   ]
  }
 ],
 "metadata": {
  "kernelspec": {
   "display_name": ".venv",
   "language": "python",
   "name": "python3"
  },
  "language_info": {
   "codemirror_mode": {
    "name": "ipython",
    "version": 3
   },
   "file_extension": ".py",
   "mimetype": "text/x-python",
   "name": "python",
   "nbconvert_exporter": "python",
   "pygments_lexer": "ipython3",
   "version": "3.10.12"
  }
 },
 "nbformat": 4,
 "nbformat_minor": 2
}
