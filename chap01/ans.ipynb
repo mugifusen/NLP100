{
 "cells": [
  {
   "cell_type": "code",
   "execution_count": 3,
   "metadata": {},
   "outputs": [
    {
     "name": "stdout",
     "output_type": "stream",
     "text": [
      "desserts\n"
     ]
    }
   ],
   "source": [
    "text = \"stressed\"\n",
    "print(text[::-1])"
   ]
  },
  {
   "cell_type": "code",
   "execution_count": 4,
   "metadata": {},
   "outputs": [
    {
     "name": "stdout",
     "output_type": "stream",
     "text": [
      "タクシー\n"
     ]
    }
   ],
   "source": [
    "text = \"パタトクカシーー\"\n",
    "print(text[1::2])"
   ]
  },
  {
   "cell_type": "code",
   "execution_count": 5,
   "metadata": {},
   "outputs": [
    {
     "name": "stdout",
     "output_type": "stream",
     "text": [
      "パタトクカシーー\n"
     ]
    }
   ],
   "source": [
    "text1 = \"パトカー\"\n",
    "text2 = \"タクシー\"\n",
    " \n",
    "lis = []\n",
    "for x, y in zip(text1, text2):\n",
    "    lis.append(x)\n",
    "    lis.append(y)\n",
    " \n",
    "lis_j = \"\".join(lis)\n",
    "print(lis_j)"
   ]
  },
  {
   "cell_type": "code",
   "execution_count": 6,
   "metadata": {},
   "outputs": [
    {
     "name": "stdout",
     "output_type": "stream",
     "text": [
      "[3, 1, 4, 1, 5, 9, 2, 6, 5, 3, 5, 8, 9, 7, 10]\n"
     ]
    }
   ],
   "source": [
    "text1 = \"Now I need a drink, alcoholic of course, after the heavy lectures involving quantum mechanics.\"\n",
    "text1_r = text1.replace(\",\", \"\")\n",
    " \n",
    "lis = []\n",
    "for x in text1_r.split():\n",
    "    lis.append(x)\n",
    "    \n",
    "len_l = [len(y) for y in lis]\n",
    "print(len_l)"
   ]
  },
  {
   "cell_type": "code",
   "execution_count": 7,
   "metadata": {},
   "outputs": [
    {
     "name": "stdout",
     "output_type": "stream",
     "text": [
      "{'H': 1, 'He': 2, 'Li': 3, 'Be': 4, 'B': 5, 'C': 6, 'N': 7, 'O': 8, 'F': 9, 'Ne': 10, 'Na': 11, 'Mi': 12, 'Al': 13, 'Si': 14, 'P': 15, 'S': 16, 'Cl': 17, 'Ar': 18, 'K': 19, 'Ca': 20}\n"
     ]
    }
   ],
   "source": [
    "text = \"Hi He Lied Because Boron Could Not Oxidize Fluorine. New Nations Might Also Sign Peace Security Clause. Arthur King Can.\"\n",
    " \n",
    "num = [1, 5, 6, 7, 8, 9, 15, 16, 19]\n",
    " \n",
    "dic = {}\n",
    " \n",
    "text_r = text.replace(\".\", \"\")\n",
    "text_lis = text_r.split()\n",
    "for i, v in enumerate(text_lis):\n",
    "    if i + 1 in num:\n",
    "        dic[v[0]] = i + 1\n",
    "    else:\n",
    "        dic[v[:2]] = i + 1\n",
    " \n",
    "print(dic)"
   ]
  },
  {
   "cell_type": "code",
   "execution_count": 12,
   "metadata": {},
   "outputs": [
    {
     "name": "stdout",
     "output_type": "stream",
     "text": [
      "単語bi-gram:[['I', 'am'], ['am', 'an'], ['an', 'NLPer']]\n",
      "文字bi-gram:['I ', ' a', 'am', 'm ', ' a', 'an', 'n ', ' N', 'NL', 'LP', 'Pe', 'er']\n"
     ]
    }
   ],
   "source": [
    "text = \"I am an NLPer\"\n",
    " \n",
    "def ngram(n, word):\n",
    "    lis = []\n",
    "    for i in range(len(word) - n + 1):\n",
    "        lis.append(word[i:i+n])\n",
    "    return lis\n",
    " \n",
    "print(f\"単語bi-gram:{ngram(2, text.split())}\")\n",
    "print(f\"文字bi-gram:{ngram(2, text)}\")"
   ]
  },
  {
   "cell_type": "code",
   "execution_count": 13,
   "metadata": {},
   "outputs": [
    {
     "name": "stdout",
     "output_type": "stream",
     "text": [
      "X：{'di', 'pa', 'ar', 'ra', 'se', 'ad', 'ap', 'is'}\n",
      "Y：{'pa', 'ph', 'ar', 'ra', 'ap', 'ag', 'gr'}\n",
      "和集合：{'di', 'pa', 'ph', 'ar', 'ra', 'se', 'ad', 'ap', 'ag', 'is', 'gr'}\n",
      "積集合：{'ar', 'pa', 'ra', 'ap'}\n",
      "差集合：{'di', 'se', 'ad', 'is'}\n"
     ]
    }
   ],
   "source": [
    "\n",
    "text1 = \"paraparaparadise\"\n",
    "text2 = \"paragraph\"\n",
    " \n",
    "X = set(ngram(2, text1))\n",
    "Y = set(ngram(2, text2))\n",
    " \n",
    "print(f\"X：{X}\")\n",
    "print(f\"Y：{Y}\")\n",
    "print(f\"和集合：{X | Y}\")\n",
    "print(f\"積集合：{X & Y}\")\n",
    "print(f\"差集合：{X - Y}\")"
   ]
  },
  {
   "cell_type": "code",
   "execution_count": 10,
   "metadata": {},
   "outputs": [
    {
     "name": "stdout",
     "output_type": "stream",
     "text": [
      "12時の気温は22.4\n"
     ]
    }
   ],
   "source": [
    "def fun(x, y, z):\n",
    "    print(f\"{x}時の{y}は{z}\")\n",
    "    \n",
    "fun(12, \"気温\", 22.4)"
   ]
  },
  {
   "cell_type": "code",
   "execution_count": 11,
   "metadata": {},
   "outputs": [
    {
     "name": "stdout",
     "output_type": "stream",
     "text": [
      "暗号化：Hvool Wliow\n",
      "復号化：Hello World\n"
     ]
    }
   ],
   "source": [
    "text = \"Hello World\"\n",
    " \n",
    "def cipher(w):\n",
    "    lis = []\n",
    "    for i in w:\n",
    "        if i.islower():\n",
    "            i = chr(219 - ord(i))\n",
    "        lis.append(i)\n",
    "    return \"\".join(lis)\n",
    " \n",
    "enc = cipher(text)\n",
    " \n",
    "print(f\"暗号化：{enc}\")\n",
    "print(f\"復号化：{cipher(enc)}\")"
   ]
  },
  {
   "cell_type": "code",
   "execution_count": null,
   "metadata": {},
   "outputs": [],
   "source": [
    "import random\n",
    " \n",
    "text1 = \"I couldn't believe that I could actually understand what I was reading : the phenomenal power of the human mind .\"\n",
    " \n",
    "lis = []\n",
    "for i in text1.split():\n",
    "    if len(i) > 4:\n",
    "        i = i[0] + \"\".join(random.sample(i[1:-1], len(i) - 2)) + i[-1]\n",
    "    lis.append(i)\n",
    "    \n",
    "print(\" \".join(lis))"
   ]
  }
 ],
 "metadata": {
  "kernelspec": {
   "display_name": "Python 3",
   "language": "python",
   "name": "python3"
  },
  "language_info": {
   "codemirror_mode": {
    "name": "ipython",
    "version": 3
   },
   "file_extension": ".py",
   "mimetype": "text/x-python",
   "name": "python",
   "nbconvert_exporter": "python",
   "pygments_lexer": "ipython3",
   "version": "3.10.12"
  }
 },
 "nbformat": 4,
 "nbformat_minor": 2
}
